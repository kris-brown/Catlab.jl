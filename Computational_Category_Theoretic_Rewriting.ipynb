{
 "cells": [
  {
   "cell_type": "markdown",
   "id": "48f345d0",
   "metadata": {},
   "source": [
    "We start with imports. This relies on new features in Catlab that have not yet been merged into the main branch, so it is important to set one's Catlab version to "
   ]
  }
 ],
 "metadata": {
  "kernelspec": {
   "display_name": "Julia O3 1.7.1",
   "language": "julia",
   "name": "julia-o3-1.7"
  },
  "language_info": {
   "file_extension": ".jl",
   "mimetype": "application/julia",
   "name": "julia",
   "version": "1.7.1"
  }
 },
 "nbformat": 4,
 "nbformat_minor": 5
}
