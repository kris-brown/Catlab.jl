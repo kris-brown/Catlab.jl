{
 "cells": [
  {
   "cell_type": "markdown",
   "id": "4473ffbc",
   "metadata": {},
   "source": [
    "# Upper sets \n",
    "\n",
    "Upper sets are a special construction relevant to preorders. In order to compute these, we'll review and implement aspects of power sets, preorders, and monotone maps along the way."
   ]
  },
  {
   "cell_type": "code",
   "execution_count": null,
   "id": "b1ec4ece",
   "metadata": {},
   "outputs": [],
   "source": [
    "using Catlab.CategoricalAlgebra.FinSets, Catlab.CategoricalAlgebra\n",
    "using DataStructures: SortedSet\n",
    "using Test"
   ]
  },
  {
   "cell_type": "markdown",
   "id": "6ff0c545",
   "metadata": {},
   "source": [
    "## Power Sets\n",
    "We can construct a powerset of a given set by considering all possible subsets.\n",
    "Specifying a subset of a set `S` is precisely the same data as providing a function from `S` into the two-element set `yesno`:\n",
    "{\"Nope, I'm not in the subset\", \"Yes, I'm in the subset\"}\n",
    "\n",
    "In Catlab, a `FinSet` of size `n` is represented by integers `1..n`. We can do our own bookkeeping to keep track of what the indices correspond to, i.e.:\n",
    "- 1 = \"Nope, I'm not in the subset\"\n",
    "- 2 = \"Yes, I'm in the subset\"\n",
    "\n",
    "Likewise, let's encode a set `goods` that we could trade (`{sheep, wheat, gold}`) by the finite set `{1,2,3}`.\n",
    "\n",
    "Now we can represent the subset {sheep, gold} as a function from `goods` to `yesno`"
   ]
  },
  {
   "cell_type": "code",
   "execution_count": null,
   "id": "48742be5",
   "metadata": {},
   "outputs": [],
   "source": [
    "yesno = FinSet(2)  # {no, yes}\n",
    "goods = FinSet(3)  # {sheep, wheat, gold}\n",
    "\n",
    "sheep_gold = FinFunction([2,1,2], goods, yesno)"
   ]
  },
  {
   "cell_type": "markdown",
   "id": "faf0c534",
   "metadata": {},
   "source": [
    "We often care about all possible subsets of a set, e.g. all possible combinations of materials used in a construction project. For a set of size `n`, there are `2ⁿ` such subsets, which we can enumerate with the following function: "
   ]
  },
  {
   "cell_type": "code",
   "execution_count": null,
   "id": "6ca3f2ac",
   "metadata": {},
   "outputs": [],
   "source": [
    "\"\"\"This function can compute all elements of the power set\"\"\"\n",
    "function powerset(s::FinSet)::Vector{SortedSet{Int}}\n",
    "  result = [SortedSet{Int}()]  # start with empty subset\n",
    "  for index in s  # consider subsets that have `index` as a member\n",
    "    newres = SortedSet{Int}[]\n",
    "    for res in result\n",
    "      push!(newres, res ∪ [index])\n",
    "    end\n",
    "    append!(result, newres)\n",
    "  end\n",
    "  return result\n",
    "end\n",
    "\n",
    "for n in 1:5\n",
    "  @test length(powerset(FinSet(n))) == 2^n\n",
    "end"
   ]
  },
  {
   "cell_type": "markdown",
   "id": "e84e8c32",
   "metadata": {},
   "source": [
    "There are many different ways to represent to these subsets on a computer. One obvious way is to directly store the elements in a collection datatype, such as `Vector` or `Set`. However, as we saw earlier, subsets can *also* be represented as functions to `FinSet(2)`, i.e. `yesno`. "
   ]
  },
  {
   "cell_type": "code",
   "execution_count": null,
   "id": "7b54474d",
   "metadata": {},
   "outputs": [],
   "source": [
    "# Exercise 1: Create the associated FinFunction to `FinSet(2)` for a particular subset.\n",
    "function subset_to_map(s::FinSet, subset::SortedSet{Int})::FinFunction\n",
    "  # TODO\n",
    "end\n",
    "\n",
    "@test subset_to_map(FinSet(3), SortedSet([1,2,3])) == FinFunction([2,2,2])\n",
    "@test subset_to_map(FinSet(2), SortedSet([2])) == FinFunction([1,2])\n",
    "@test_throws ErrorException subset_to_map(FinSet(3), SortedSet([4]))\n",
    "@test_throws ErrorException subset_to_map(FinSet(3), SortedSet([0]))"
   ]
  },
  {
   "cell_type": "code",
   "execution_count": null,
   "id": "6c5e0677",
   "metadata": {},
   "outputs": [],
   "source": [
    "# Optional exercise 1.5: And create the inverse function\n",
    "function map_to_subset(f::FinFunction)::SortedSet{Int}\n",
    "  # TODO\n",
    "end\n",
    "\n",
    "@test map_to_subset(FinFunction([2,2,2])) == SortedSet([1,2,3])\n",
    "@test map_to_subset(FinFunction([1,1,1,1,1,1,1,1], FinSet(2))) == SortedSet{Int}()\n",
    "@test map_to_subset(FinFunction([1,1,1,1,1,1,1,2])) == SortedSet([8])\n",
    "@test_throws ErrorException map_to_subset(FinFunction([1,2,3], FinSet(3), FinSet(3)))"
   ]
  },
  {
   "cell_type": "markdown",
   "id": "dc79da2e",
   "metadata": {},
   "source": [
    "This encoding of subsets as functions has its merits is not particularly space efficient. An alternative encoding allows us to represent a subset with a *single integer*. We can do this because there is a canonical ordering on the subsets of an ordered finite set. For example:\n",
    "\n",
    "Index | Explicit | Function to 2\n",
    "----- | -------- | ------------\n",
    "1     | { }      |  {no, no, no}\n",
    "2     | {1}      | {yes, no, no}\n",
    "3     | {2}      | {no, yes, no}\n",
    "4     | {1,2}    | {yes, yes, no}\n",
    "5     | {3}      | {no, no, yes}\n",
    "6     | {1,3}    | {yes, no, yes}\n",
    "7     | {2,3}    | {no, yes, yes}\n",
    "8     | {1,2,3}  | {yes, yes, yes}\n",
    "\n",
    "Therefore, subsets can be identified with their location within a particular vector containing all possible subsets."
   ]
  },
  {
   "cell_type": "code",
   "execution_count": null,
   "id": "f5c898b8",
   "metadata": {},
   "outputs": [],
   "source": [
    "# Exercise 2: Assign a unique number to each subset. \n",
    "\n",
    "# Remember, for each element in the original set, we have associated a \"no\" or a \"yes\".\n",
    "# This is reminiscent of a certain kind of numbering system.\n",
    "function subset_to_int(subset::SortedSet{Int})::Int\n",
    "  # TODO\n",
    "end\n",
    "\n",
    "subset_to_int(SortedSet([1])) == 2\n",
    "subset_to_int(SortedSet([1,2,3])) == 8\n",
    "\n",
    "for i in 1:5\n",
    "  subset_indices = [subset_to_int(ss) for ss in powerset(FinSet(i))]\n",
    "  @test sort(subset_indices) == collect(1:2^i)\n",
    "end"
   ]
  },
  {
   "cell_type": "code",
   "execution_count": null,
   "id": "3f6db10c",
   "metadata": {},
   "outputs": [],
   "source": [
    "# Optional exercise 2.5: Write the inverse function. \n",
    "# The functions `bitstring(UInt16(i::Int))` we can save some time.\n",
    "function int_to_subset(i::Int)::SortedSet{Int}\n",
    "  # TODO\n",
    "end\n",
    "\n",
    "for i in 1:16\n",
    "  @test i == subset_to_int(int_to_subset(i))\n",
    "end"
   ]
  },
  {
   "cell_type": "markdown",
   "id": "e46e6f99",
   "metadata": {},
   "source": [
    "# Preorders\n",
    "Preorders characterize _reflexive_, _transitive_ relations. Many real-life relations are characterized by these properties, e.g. hierarchy, reachability, preferability. We characteristically represent this relation with the `≤` symbol. Computationally, we'll represent preorders as relations, i.e. subsets of `S × S`. To check whether `a ≤ᵣ b`, we check if `(a,b) ∈ r`.\n",
    "\n",
    "With this preferability relation applied to our goods, we might declare that `wheat ≤ sheep ≤ gold`, i.e. `2 ≤ 1` and `1 ≤ 3`. The preorder laws demand that other things are related, e.g. that gold is at least as desirable as wheat (`2 ≤ 3` by transitivity) and that sheep are at least as desirable as sheep (`2 ≤ 2` reflexivity). Our Julia constructor for `Preorder` will automatically add these required relations."
   ]
  },
  {
   "cell_type": "code",
   "execution_count": null,
   "id": "8522b0a1",
   "metadata": {},
   "outputs": [],
   "source": [
    "struct Preorder\n",
    "  carrier:: FinSet\n",
    "  relation :: SortedSet{Pair{Int,Int}}\n",
    "  \"\"\"Construct valid preorder by taking reflexive/transitive closure\"\"\"\n",
    "  function Preorder(carrier:: FinSet, rel :: Vector{Pair{Int,Int}})\n",
    "    for (a,b) ∈ rel\n",
    "      a ∈ carrier && b ∈ carrier || error(\"relation element not in carrier set\")\n",
    "    end\n",
    "    relation = SortedSet(rel)\n",
    "    for (a, b, c) in Iterators.product(carrier, carrier, carrier)\n",
    "      if ((a => b) ∈ relation) && ((b => c) ∈ relation)\n",
    "        push!(relation, a => c) # enforces relation is transitive\n",
    "      end\n",
    "    end\n",
    "    for i in carrier\n",
    "      push!(relation, i => i) # enforces that relation is reflexive\n",
    "    end\n",
    "    return new(carrier, relation)\n",
    "  end\n",
    "end"
   ]
  },
  {
   "cell_type": "markdown",
   "id": "74b43372",
   "metadata": {},
   "source": [
    "The preorder `Bool` has two elements, `true`, and `false`, and one nontrivial element in its relation: `false ≤ true`. This and many other examples are declared below. Another example to highlight is a set of products (`{berry, sword, helmet, potion}`) that we could purchase with our goods, ordered by desirability: suppose that swords and potions are more desirable than helmets, which are more desirable than berries."
   ]
  },
  {
   "cell_type": "code",
   "execution_count": null,
   "id": "744dec1f",
   "metadata": {},
   "outputs": [],
   "source": [
    "# Example preorders\n",
    "goods = Preorder(FinSet(3), [2=>1, 1=>3])\n",
    "products = Preorder(FinSet(4), [1=>3, 3=>2, 3=>4])\n",
    "\n",
    "empty = Preorder(FinSet(0), Pair{Int,Int}[])\n",
    "bool = Preorder(FinSet(2), [1=>2])\n",
    "diamond = Preorder(FinSet(4), [1=>2,1=>3,2=>4,3=>4])\n",
    "discrete = Preorder(FinSet(4),Pair{Int,Int}[])\n",
    "full = Preorder(FinSet(4),[1=>2,1=>3,1=>4,2=>1,2=>1,3=>1,4=>1])"
   ]
  },
  {
   "cell_type": "markdown",
   "id": "4d72c2c6",
   "metadata": {},
   "source": [
    "# Monotone maps\n",
    "Monotone maps are analogous to functions, but respecting preorder structure.\n",
    "- Monotonicity: `x ≤ y ⟹ f(x) ≤ f(y)`\n",
    "\n",
    "In the context of montone maps between goods and products, we can view this as a kind of bartering trade, where for each of our goods we select a product that it can be exchanged for."
   ]
  },
  {
   "cell_type": "code",
   "execution_count": null,
   "id": "cd32ade6",
   "metadata": {},
   "outputs": [],
   "source": [
    "struct Monotone_map\n",
    "  domain::Preorder\n",
    "  codomain::Preorder\n",
    "  mapping::FinFunction\n",
    "  function Monotone_map(domain::Preorder, cod::Preorder, mapping::FinFunction)\n",
    "    ((dom(mapping) == domain.carrier) && (codom(mapping) == cod.carrier)\n",
    "    ) || error(\"mapping mismatch\")\n",
    "    return new(domain,cod,mapping)\n",
    "  end\n",
    "end"
   ]
  },
  {
   "cell_type": "markdown",
   "id": "e7ed4412",
   "metadata": {},
   "source": [
    "In many cases, this monotonicity constraint characterizes a certain type of sanity (precisely the sanity that prevents us from trading a quarter for a penny). \n",
    "\n",
    "Suppose that we were proposed a trade that exchanges our gold for berries, and our other goods for swords. This is certainly a valid function of finite sets, but it would not make sense for our (hard-earned) gold to be exchanged for something that is not as desirable as what our less valuable wheat was exchanged for. The following exercise requires you to automate this check."
   ]
  },
  {
   "cell_type": "code",
   "execution_count": null,
   "id": "871a2df6",
   "metadata": {},
   "outputs": [],
   "source": [
    "# Exercise 3: Check if a map is monotone\n",
    "function is_monotone(mm::Monotone_map)::Bool\n",
    "  # todo\n",
    "end\n",
    "\n",
    "exchange_1 = Monotone_map(goods, products, FinFunction([3,1,4], FinSet(3), FinSet(4)))\n",
    "@test is_monotone(exchange_1)\n",
    "@test !is_monotone(Monotone_map(goods, products, FinFunction([2,2,1], FinSet(3), FinSet(4))))\n",
    "@test is_monotone(Monotone_map(goods, products, FinFunction([4,4,4], FinSet(3), FinSet(4))))\n"
   ]
  },
  {
   "cell_type": "markdown",
   "id": "8f88503b",
   "metadata": {},
   "source": [
    "One could use the products obtained to trade again for newer products. This induces a monotone map between the original goods and the newer products."
   ]
  },
  {
   "cell_type": "code",
   "execution_count": null,
   "id": "33e36d25",
   "metadata": {},
   "outputs": [],
   "source": [
    "# Exercise 4: write a function to compose monotone maps\n",
    "function compose(m1::Monotone_map, m2::Monotone_map)::Monotone_map\n",
    "  # TODO\n",
    "end\n",
    "\n",
    "bronze_silver = Preorder(FinSet(2), [1=>2]) # {bronze, silver}, isomorphic to bool\n",
    "exchange_2 = Monotone_map(products, bronze_silver, FinFunction([1,2,2,2], FinSet(4), FinSet(2)))\n",
    "m1m2 = compose(exchange_1, exchange2)\n",
    "@test m1m2.mapping == FinFunction([2,1,2])\n",
    "@test is_monotone(m1m2) # composition of monotones is a monotone"
   ]
  },
  {
   "cell_type": "markdown",
   "id": "33de1d87",
   "metadata": {},
   "source": [
    "# Upper sets\n",
    "\n",
    "An upper set is a subset of a preorder such that the inclusion of an element `x` requires that, for each `x ≤ y`, that `y` be included in the set, too. Imagining a numeric value being assigned to each element of the preorder (respecting `≤`), an upper set represents all elements above a particular threshold. For no such assignment of values would `{wheat, sheep}` be the only elements above some threshold (given that gold's value must be equal to or exceed the others); thus, this would not be a valid upper set."
   ]
  },
  {
   "cell_type": "code",
   "execution_count": null,
   "id": "27eaaa8a",
   "metadata": {},
   "outputs": [],
   "source": [
    "function uppersets(s::Preorder)::Vector{SortedSet{Int}}\n",
    "  result = [SortedSet{Int}()] # start with empty set\n",
    "  for index in s.carrier\n",
    "    newres = SortedSet{Int}[]\n",
    "    for res in result\n",
    "      if index ∉ res\n",
    "        push!(newres, res ∪ [j for (i,j) ∈ s.relation if i==index])\n",
    "      end\n",
    "    end\n",
    "    append!(result, newres)\n",
    "    unique!(result)\n",
    "  end\n",
    "  return result\n",
    "end"
   ]
  },
  {
   "cell_type": "markdown",
   "id": "84c269eb",
   "metadata": {},
   "source": [
    "We saw that maps into the set `yesno` had a special significance for sets. Likewise, maps into `Bool` from preorders are signficant. The data to specify one is identical to a map into `yesno`; however, there is an additional requirement in order for this map to be a monotone map."
   ]
  },
  {
   "cell_type": "code",
   "execution_count": null,
   "id": "7aed1882",
   "metadata": {},
   "outputs": [],
   "source": [
    "# Exercise 5: Enumerate monotone maps to bool by filtering maps to 2\n",
    "function monotone_maps_to_bool(p::Preorder)::Vector{Monotone_map}\n",
    "  pset_maps = [\"\"\"TODO\"\"\" for s in powerset(p.carrier)]\n",
    "  return \"\"\"TODO\"\"\"\n",
    "end\n",
    "\n",
    "bool_mms = monotone_maps_to_bool(bool) # monotone maps from bool to bool\n",
    "@test [m.mapping.func for m in bool_mms] == [[1,1],[1,2],[2,2]]"
   ]
  },
  {
   "cell_type": "markdown",
   "id": "034039eb",
   "metadata": {},
   "source": [
    "These monotone maps to `Bool` correspond directly with upper sets, for any preorder."
   ]
  },
  {
   "cell_type": "code",
   "execution_count": null,
   "id": "4c8df868",
   "metadata": {},
   "outputs": [],
   "source": [
    "preorders = [empty, goods, products, bool, diamond, discrete, full]\n",
    "\n",
    "for p in preorders\n",
    "  @test length(uppersets(p)) == length(monotone_maps_to_bool(p))\n",
    "end"
   ]
  },
  {
   "cell_type": "markdown",
   "id": "a033d92b",
   "metadata": {},
   "source": [
    "Thus, any sequence of (rational) trades that culminates in a trade into the silver/bronze preorder (isomorphic to `Bool`) reveals something about the set of goods at the start of the trade sequence: the elements which ultimately are mapped to silver form an upper set.  "
   ]
  }
 ],
 "metadata": {
  "kernelspec": {
   "display_name": "Julia 1.6.1",
   "language": "julia",
   "name": "julia-1.6"
  },
  "language_info": {
   "file_extension": ".jl",
   "mimetype": "application/julia",
   "name": "julia",
   "version": "1.6.1"
  }
 },
 "nbformat": 4,
 "nbformat_minor": 5
}
